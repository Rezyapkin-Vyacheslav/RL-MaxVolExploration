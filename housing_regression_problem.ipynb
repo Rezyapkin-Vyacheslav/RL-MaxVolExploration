{
 "cells": [
  {
   "cell_type": "code",
   "execution_count": 1,
   "metadata": {},
   "outputs": [],
   "source": [
    "%load_ext autoreload\n",
    "%autoreload 2\n",
    "\n",
    "from tqdm import tqdm_notebook\n",
    "from algorithms import Agent\n",
    "\n",
    "from numpy.linalg import pinv, norm, solve, lstsq\n",
    "from sklearn.metrics import r2_score, mean_squared_error\n",
    "from sklearn.model_selection import train_test_split\n",
    "from sklearn.datasets import make_regression\n",
    "from sklearn.preprocessing import StandardScaler\n",
    "from sklearn.linear_model import Ridge, ElasticNet, ElasticNetCV\n",
    "\n",
    "import pandas as pd\n",
    "import numpy as np\n",
    "import matplotlib.pyplot as plt\n",
    "import seaborn as sns\n",
    "\n",
    "from sklearn.datasets import fetch_california_housing\n",
    "\n",
    "%matplotlib inline"
   ]
  },
  {
   "cell_type": "code",
   "execution_count": 2,
   "metadata": {},
   "outputs": [],
   "source": [
    "def run_experiment(agents, S_train, R_train, S_test, R_test, \n",
    "                   n_iters=100, act_size=4, n_repeats=10, metric=r2_score,\n",
    "                   eval_rule = lambda i: (i >= 10 and i%10 == 0) or i in [1, 2, 5]\n",
    "                  ):\n",
    "    global_scores = pd.DataFrame()\n",
    "    for i_repeat in range(n_repeats):\n",
    "        scores = pd.DataFrame()\n",
    "        for i in tqdm_notebook(range(n_iters)):\n",
    "            batch_indices = np.random.randint(S_train.shape[0], size=act_size)\n",
    "            for agent_name, agent in agents.items():\n",
    "                agent.choose_phi(S_train[batch_indices], R_train[batch_indices], update_H=True)\n",
    "                if eval_rule(i):\n",
    "                    agent.fit()\n",
    "                    metric_train = agent.evaluate(S_train, R_train, metric=metric)\n",
    "                    metric_test = agent.evaluate(S_test, R_test, metric=metric)\n",
    "                    scores.at[i, agent_name + '_train'] = metric_train\n",
    "                    scores.at[i, agent_name + '_test'] = metric_test\n",
    "        global_scores = scores if len(global_scores) == 0 else scores + global_scores\n",
    "    return global_scores/n_repeats, scores"
   ]
  },
  {
   "cell_type": "markdown",
   "metadata": {},
   "source": [
    "Возьмем на этот раз не синтетический датасет с линейными связями, а реальный"
   ]
  },
  {
   "cell_type": "code",
   "execution_count": 3,
   "metadata": {},
   "outputs": [],
   "source": [
    "S, R = fetch_california_housing(return_X_y=True)\n",
    "S_train, S_test, R_train, R_test = train_test_split(S, R, test_size=0.3, random_state=466665)"
   ]
  },
  {
   "cell_type": "code",
   "execution_count": 4,
   "metadata": {},
   "outputs": [
    {
     "data": {
      "text/plain": [
       "(6192, 8)"
      ]
     },
     "execution_count": 4,
     "metadata": {},
     "output_type": "execute_result"
    }
   ],
   "source": [
    "S_test.shape"
   ]
  },
  {
   "cell_type": "code",
   "execution_count": 5,
   "metadata": {},
   "outputs": [
    {
     "name": "stdout",
     "output_type": "stream",
     "text": [
      "0.5433421606243045\n",
      "0.6080628830554172\n",
      "\n",
      "0.5547811849058506\n",
      "0.5935299798447169\n",
      "\n",
      "0.1434458495072708\n",
      "1.1372837346596105\n"
     ]
    }
   ],
   "source": [
    "w = pinv(S_test) @ R_test\n",
    "R_pred = S @ w\n",
    "print(r2_score(R, R_pred))\n",
    "print(mean_squared_error(R, R_pred))\n",
    "print()\n",
    "\n",
    "w = lstsq(S_train, R_train, rcond=-1)[0]\n",
    "R_pred = S_train @ w\n",
    "print(r2_score(R_train, R_pred), )\n",
    "print(mean_squared_error(R_train, R_pred))\n",
    "print()\n",
    "\n",
    "R_pred = S_test @ w\n",
    "print(r2_score(R_test, R_pred))\n",
    "print(mean_squared_error(R_test, R_pred))"
   ]
  },
  {
   "cell_type": "markdown",
   "metadata": {},
   "source": [
    "Переобучение (но только при некоторых сидах)"
   ]
  },
  {
   "cell_type": "code",
   "execution_count": 6,
   "metadata": {},
   "outputs": [
    {
     "data": {
      "text/html": [
       "<div>\n",
       "<style scoped>\n",
       "    .dataframe tbody tr th:only-of-type {\n",
       "        vertical-align: middle;\n",
       "    }\n",
       "\n",
       "    .dataframe tbody tr th {\n",
       "        vertical-align: top;\n",
       "    }\n",
       "\n",
       "    .dataframe thead th {\n",
       "        text-align: right;\n",
       "    }\n",
       "</style>\n",
       "<table border=\"1\" class=\"dataframe\">\n",
       "  <thead>\n",
       "    <tr style=\"text-align: right;\">\n",
       "      <th></th>\n",
       "      <th>0</th>\n",
       "      <th>1</th>\n",
       "      <th>2</th>\n",
       "      <th>3</th>\n",
       "      <th>4</th>\n",
       "      <th>5</th>\n",
       "      <th>6</th>\n",
       "      <th>7</th>\n",
       "    </tr>\n",
       "  </thead>\n",
       "  <tbody>\n",
       "    <tr>\n",
       "      <th>0</th>\n",
       "      <td>0.538604</td>\n",
       "      <td>0.016236</td>\n",
       "      <td>-0.243471</td>\n",
       "      <td>1.151449</td>\n",
       "      <td>-0.000007</td>\n",
       "      <td>-0.003415</td>\n",
       "      <td>-0.059582</td>\n",
       "      <td>-0.014502</td>\n",
       "    </tr>\n",
       "    <tr>\n",
       "      <th>1</th>\n",
       "      <td>0.538604</td>\n",
       "      <td>0.016236</td>\n",
       "      <td>-0.243471</td>\n",
       "      <td>1.151449</td>\n",
       "      <td>-0.000007</td>\n",
       "      <td>-0.003415</td>\n",
       "      <td>-0.059582</td>\n",
       "      <td>-0.014502</td>\n",
       "    </tr>\n",
       "    <tr>\n",
       "      <th>2</th>\n",
       "      <td>0.501823</td>\n",
       "      <td>0.015589</td>\n",
       "      <td>-0.156843</td>\n",
       "      <td>0.748860</td>\n",
       "      <td>0.000023</td>\n",
       "      <td>-0.042258</td>\n",
       "      <td>-0.068440</td>\n",
       "      <td>-0.018732</td>\n",
       "    </tr>\n",
       "  </tbody>\n",
       "</table>\n",
       "</div>"
      ],
      "text/plain": [
       "          0         1         2         3         4         5         6  \\\n",
       "0  0.538604  0.016236 -0.243471  1.151449 -0.000007 -0.003415 -0.059582   \n",
       "1  0.538604  0.016236 -0.243471  1.151449 -0.000007 -0.003415 -0.059582   \n",
       "2  0.501823  0.015589 -0.156843  0.748860  0.000023 -0.042258 -0.068440   \n",
       "\n",
       "          7  \n",
       "0 -0.014502  \n",
       "1 -0.014502  \n",
       "2 -0.018732  "
      ]
     },
     "execution_count": 6,
     "metadata": {},
     "output_type": "execute_result"
    }
   ],
   "source": [
    "pd.DataFrame([pinv(S_test) @ R_test, \n",
    "              lstsq(S_test, R_test, rcond=-1)[0], \n",
    "              lstsq(S_train, R_train, rcond=-1)[0]])"
   ]
  },
  {
   "cell_type": "markdown",
   "metadata": {},
   "source": [
    "Сильно отличаются веса в зависимости от подвыборки для обучения  \n",
    "Видимо, матрица имеет большое число обусловленности, нужна регуляризация  \n",
    "Выше нет свободного члена  \n",
    "Нет нормализации"
   ]
  },
  {
   "cell_type": "code",
   "execution_count": 7,
   "metadata": {},
   "outputs": [
    {
     "data": {
      "text/plain": [
       "(9831.755795090006, 12181.44838507402)"
      ]
     },
     "execution_count": 7,
     "metadata": {},
     "output_type": "execute_result"
    }
   ],
   "source": [
    "np.linalg.cond(S_train), np.linalg.cond(S_test)"
   ]
  },
  {
   "cell_type": "code",
   "execution_count": 8,
   "metadata": {},
   "outputs": [
    {
     "data": {
      "text/plain": [
       "<matplotlib.axes._subplots.AxesSubplot at 0x7fecf3a2d5c0>"
      ]
     },
     "execution_count": 8,
     "metadata": {},
     "output_type": "execute_result"
    },
    {
     "data": {
      "image/png": "[encoded data removed]",
      "text/plain": [
       "<Figure size 432x288 with 2 Axes>"
      ]
     },
     "metadata": {
      "needs_background": "light"
     },
     "output_type": "display_data"
    }
   ],
   "source": [
    "sns.heatmap(pd.DataFrame(S_train).corr(), annot=True)"
   ]
  },
  {
   "cell_type": "markdown",
   "metadata": {},
   "source": [
    "Так и есть. Число обусловленности большое, и пар признаков (2, 3) и (6, 7) большая корреляция по модулю"
   ]
  },
  {
   "cell_type": "markdown",
   "metadata": {},
   "source": [
    "Теперь сделаем как положено: с нормализацией и регуляризацией"
   ]
  },
  {
   "cell_type": "code",
   "execution_count": 9,
   "metadata": {},
   "outputs": [],
   "source": [
    "scaler = StandardScaler()\n",
    "S_train = scaler.fit_transform(S_train)\n",
    "S_test = scaler.transform(S_test)"
   ]
  },
  {
   "cell_type": "code",
   "execution_count": 10,
   "metadata": {},
   "outputs": [
    {
     "data": {
      "text/plain": [
       "(6.80476339464444, 41.81595447184944)"
      ]
     },
     "execution_count": 10,
     "metadata": {},
     "output_type": "execute_result"
    }
   ],
   "source": [
    "np.linalg.cond(S_train), np.linalg.cond(S_test)"
   ]
  },
  {
   "cell_type": "code",
   "execution_count": 11,
   "metadata": {},
   "outputs": [
    {
     "data": {
      "text/plain": [
       "(2.068558169089147, 1.1539282040412253)"
      ]
     },
     "execution_count": 11,
     "metadata": {},
     "output_type": "execute_result"
    }
   ],
   "source": [
    "R.mean(), R.std()"
   ]
  },
  {
   "cell_type": "code",
   "execution_count": 12,
   "metadata": {},
   "outputs": [
    {
     "name": "stdout",
     "output_type": "stream",
     "text": [
      "train\n",
      "r2: 0.614\n",
      "mse: 0.515\n",
      "\n",
      "test\n",
      "r2: 0.291\n",
      "mse: 0.941\n"
     ]
    }
   ],
   "source": [
    "alpha = 1\n",
    "\n",
    "model = Ridge(alpha=alpha)\n",
    "\n",
    "def fit_and_report(model):\n",
    "    model.fit(S_train, R_train)\n",
    "    R_pred = model.predict(S_train)\n",
    "    print('train')\n",
    "    print(f'r2: {r2_score(R_train, R_pred):.3f}')\n",
    "    print(f'mse: {mean_squared_error(R_train, R_pred):.3f}')\n",
    "    print()\n",
    "\n",
    "    R_pred = model.predict(S_test)\n",
    "    print('test')\n",
    "    print(f'r2: {r2_score(R_test, R_pred):.3f}')\n",
    "    print(f'mse: {mean_squared_error(R_test, R_pred):.3f}')\n",
    "    \n",
    "fit_and_report(model)"
   ]
  },
  {
   "cell_type": "markdown",
   "metadata": {},
   "source": [
    "слабая регуляризация"
   ]
  },
  {
   "cell_type": "code",
   "execution_count": 13,
   "metadata": {},
   "outputs": [
    {
     "name": "stdout",
     "output_type": "stream",
     "text": [
      "train\n",
      "r2: 0.451\n",
      "mse: 0.732\n",
      "\n",
      "test\n",
      "r2: 0.295\n",
      "mse: 0.935\n"
     ]
    }
   ],
   "source": [
    "alpha = 1e4\n",
    "\n",
    "model = Ridge(alpha=alpha)\n",
    "\n",
    "fit_and_report(model)"
   ]
  },
  {
   "cell_type": "code",
   "execution_count": 14,
   "metadata": {},
   "outputs": [
    {
     "name": "stdout",
     "output_type": "stream",
     "text": [
      "train\n",
      "r2: 0.485\n",
      "mse: 0.687\n",
      "\n",
      "test\n",
      "r2: 0.461\n",
      "mse: 0.716\n"
     ]
    }
   ],
   "source": [
    "model = ElasticNet(alpha=2e-1)\n",
    "\n",
    "fit_and_report(model)"
   ]
  },
  {
   "cell_type": "code",
   "execution_count": 15,
   "metadata": {},
   "outputs": [
    {
     "data": {
      "text/plain": [
       "array([ 0.64659438,  0.08152016, -0.        , -0.        ,  0.        ,\n",
       "       -0.        , -0.01167054, -0.        ])"
      ]
     },
     "execution_count": 15,
     "metadata": {},
     "output_type": "execute_result"
    }
   ],
   "source": [
    "model.coef_"
   ]
  },
  {
   "cell_type": "markdown",
   "metadata": {},
   "source": [
    "Используется только 3 признака"
   ]
  },
  {
   "cell_type": "code",
   "execution_count": 16,
   "metadata": {},
   "outputs": [
    {
     "name": "stdout",
     "output_type": "stream",
     "text": [
      "train\n",
      "r2: 0.212\n",
      "mse: 1.050\n",
      "\n",
      "test\n",
      "r2: 0.201\n",
      "mse: 1.061\n"
     ]
    }
   ],
   "source": [
    "model = ElasticNet(alpha=1)\n",
    "\n",
    "fit_and_report(model)"
   ]
  },
  {
   "cell_type": "code",
   "execution_count": 17,
   "metadata": {},
   "outputs": [
    {
     "data": {
      "text/plain": [
       "array([ 0.20151764,  0.        ,  0.        , -0.        , -0.        ,\n",
       "       -0.        , -0.        , -0.        ])"
      ]
     },
     "execution_count": 17,
     "metadata": {},
     "output_type": "execute_result"
    }
   ],
   "source": [
    "model.coef_"
   ]
  },
  {
   "cell_type": "markdown",
   "metadata": {},
   "source": [
    "Качество с L1 регуляризацией значительно лучше  \n",
    "Этот гиперпараметр общий для всех моделей, поэтому не делаю отдельную валидацию"
   ]
  },
  {
   "cell_type": "code",
   "execution_count": 18,
   "metadata": {},
   "outputs": [],
   "source": [
    "# plt.hist(R)"
   ]
  },
  {
   "cell_type": "code",
   "execution_count": 22,
   "metadata": {},
   "outputs": [],
   "source": [
    "import torch\n",
    "import torch.nn as nn\n",
    "\n",
    "device = 'cuda' if torch.cuda.is_available() else 'cpu'"
   ]
  },
  {
   "cell_type": "code",
   "execution_count": 23,
   "metadata": {},
   "outputs": [],
   "source": [
    "class RND:\n",
    "    def __init__(self, target_net, predictor_net, optimizer, criterion=torch.nn.MSELoss()):\n",
    "        self.target_net = target_net\n",
    "        self.predictor_net = predictor_net\n",
    "        self.optimizer = optimizer\n",
    "        self.criterion = criterion\n",
    "        self.X = torch.Tensor().to(device)\n",
    "        \n",
    "    def need_to_train(self, phi_tensor, tol=1e-3):\n",
    "        '''\n",
    "        train iff error on the new object is less than tol\n",
    "        '''\n",
    "        self.predictor_net.eval()\n",
    "        target_pred = self.target_net(phi_tensor)\n",
    "        predictor_pred = self.predictor_net(phi_tensor)\n",
    "        loss = self.criterion(predictor_pred, target_pred).item()\n",
    "        \n",
    "        return loss > tol\n",
    "    \n",
    "    def choose_phi(self, Phi):\n",
    "        '''\n",
    "        choose phi with max target-predict error\n",
    "        '''\n",
    "        self.predictor_net.eval()\n",
    "        Phi_tensor = torch.Tensor(Phi)\n",
    "        target_pred = self.target_net(Phi_tensor)\n",
    "        predictor_pred = self.predictor_net(Phi_tensor)\n",
    "        errors = (target_pred - predictor_pred).abs()\n",
    "        return torch.argmax(errors.squeeze()).cpu().detach().numpy()\n",
    "        \n",
    "    def fit(self, phi, tol=1e-1, batch_size=4, verbose=False):\n",
    "        phi_tensor = torch.Tensor(phi).unsqueeze(0).to(device)\n",
    "        self.X = torch.cat((self.X, phi_tensor))\n",
    "        \n",
    "        need_train_flg = self.need_to_train(phi_tensor)\n",
    "        if need_train_flg:\n",
    "            self.predictor_net.train()\n",
    "            epoch_mse = np.inf\n",
    "            while epoch_mse > tol:\n",
    "                if verbose:\n",
    "                    print('new training epoch...')\n",
    "                epoch_mse = []\n",
    "                permutation = torch.randperm(self.X.size()[0])\n",
    "                for i in range(0, self.X.size()[0], batch_size):\n",
    "                    batch_ind = permutation[i:i+batch_size]\n",
    "                    batch = self.X[batch_ind]\n",
    "                    \n",
    "                    target_pred = self.target_net(batch)\n",
    "                    predictor_pred = self.predictor_net(batch)\n",
    "                    loss = self.criterion(predictor_pred, target_pred)\n",
    "                    \n",
    "                    self.optimizer.zero_grad()\n",
    "                    loss.backward()\n",
    "                    self.optimizer.step()\n",
    "                    \n",
    "                    epoch_mse += [loss.item()]\n",
    "                    \n",
    "                epoch_mse = np.mean(epoch_mse)\n",
    "                if verbose:\n",
    "                    print(epoch_mse)\n",
    "                \n",
    "\n",
    "def make_network(input_size=8):\n",
    "    net = nn.Sequential(\n",
    "        nn.Linear(input_size, 10),\n",
    "        nn.ReLU(),\n",
    "        nn.Linear(10, 1)\n",
    "    )\n",
    "    \n",
    "    return net\n",
    "\n",
    "lr = 5e-4\n",
    "\n",
    "target_net = make_network()\n",
    "predictor_net = make_network()\n",
    "\n",
    "target_net.eval()\n",
    "\n",
    "optimizer = torch.optim.Adam(predictor_net.parameters(), lr=lr)\n",
    "rnd_model = RND(target_net, predictor_net, optimizer)\n",
    "\n",
    "def create_rnd(lr=5e-4):\n",
    "    target_net = make_network()\n",
    "    predictor_net = make_network()\n",
    "\n",
    "    target_net.eval()\n",
    "\n",
    "    optimizer = torch.optim.Adam(predictor_net.parameters(), lr=lr)\n",
    "    rnd_model = RND(target_net, predictor_net, optimizer)\n",
    "    \n",
    "    return rnd_model"
   ]
  },
  {
   "cell_type": "code",
   "execution_count": 24,
   "metadata": {},
   "outputs": [],
   "source": [
    "# rnd_model.fit(S[0], verbose=True)"
   ]
  },
  {
   "cell_type": "code",
   "execution_count": 25,
   "metadata": {},
   "outputs": [],
   "source": [
    "# rnd_model.fit(S[98], verbose=True)"
   ]
  },
  {
   "cell_type": "code",
   "execution_count": 26,
   "metadata": {},
   "outputs": [],
   "source": [
    "train_cols = lambda df: df[[col for col in df.columns if 'train' in col]]\n",
    "test_cols = lambda df: df[[col for col in df.columns if 'test' in col]]"
   ]
  },
  {
   "cell_type": "code",
   "execution_count": 37,
   "metadata": {},
   "outputs": [
    {
     "data": {
      "application/vnd.jupyter.widget-view+json": {
       "model_id": "bdae10fcb4d94a73b1d7de0a8347cbae",
       "version_major": 2,
       "version_minor": 0
      },
      "text/plain": [
       "HBox(children=(IntProgress(value=0, max=501), HTML(value='')))"
      ]
     },
     "metadata": {},
     "output_type": "display_data"
    },
    {
     "name": "stdout",
     "output_type": "stream",
     "text": [
      "\n"
     ]
    },
    {
     "data": {
      "text/html": [
       "<div>\n",
       "<style scoped>\n",
       "    .dataframe tbody tr th:only-of-type {\n",
       "        vertical-align: middle;\n",
       "    }\n",
       "\n",
       "    .dataframe tbody tr th {\n",
       "        vertical-align: top;\n",
       "    }\n",
       "\n",
       "    .dataframe thead th {\n",
       "        text-align: right;\n",
       "    }\n",
       "</style>\n",
       "<table border=\"1\" class=\"dataframe\">\n",
       "  <thead>\n",
       "    <tr style=\"text-align: right;\">\n",
       "      <th></th>\n",
       "      <th>random_train</th>\n",
       "      <th>random_test</th>\n",
       "      <th>stat_volume_train</th>\n",
       "      <th>stat_volume_test</th>\n",
       "      <th>stacked_volume_train</th>\n",
       "      <th>stacked_volume_test</th>\n",
       "      <th>max_error_train</th>\n",
       "      <th>max_error_test</th>\n",
       "      <th>min_variance_train</th>\n",
       "      <th>min_variance_test</th>\n",
       "      <th>greedy_train</th>\n",
       "      <th>greedy_test</th>\n",
       "      <th>random_network_distill_train</th>\n",
       "      <th>random_network_distill_test</th>\n",
       "    </tr>\n",
       "  </thead>\n",
       "  <tbody>\n",
       "    <tr>\n",
       "      <th>300</th>\n",
       "      <td>0.94</td>\n",
       "      <td>0.95</td>\n",
       "      <td>0.83</td>\n",
       "      <td>0.85</td>\n",
       "      <td>0.83</td>\n",
       "      <td>0.85</td>\n",
       "      <td>0.85</td>\n",
       "      <td>0.87</td>\n",
       "      <td>0.80</td>\n",
       "      <td>0.82</td>\n",
       "      <td>0.73</td>\n",
       "      <td>0.76</td>\n",
       "      <td>0.93</td>\n",
       "      <td>0.94</td>\n",
       "    </tr>\n",
       "    <tr>\n",
       "      <th>350</th>\n",
       "      <td>0.95</td>\n",
       "      <td>0.96</td>\n",
       "      <td>0.85</td>\n",
       "      <td>0.87</td>\n",
       "      <td>0.85</td>\n",
       "      <td>0.87</td>\n",
       "      <td>0.87</td>\n",
       "      <td>0.89</td>\n",
       "      <td>0.79</td>\n",
       "      <td>0.82</td>\n",
       "      <td>0.73</td>\n",
       "      <td>0.76</td>\n",
       "      <td>0.94</td>\n",
       "      <td>0.95</td>\n",
       "    </tr>\n",
       "    <tr>\n",
       "      <th>400</th>\n",
       "      <td>0.96</td>\n",
       "      <td>0.98</td>\n",
       "      <td>0.87</td>\n",
       "      <td>0.89</td>\n",
       "      <td>0.87</td>\n",
       "      <td>0.89</td>\n",
       "      <td>0.87</td>\n",
       "      <td>0.88</td>\n",
       "      <td>0.78</td>\n",
       "      <td>0.81</td>\n",
       "      <td>0.73</td>\n",
       "      <td>0.77</td>\n",
       "      <td>0.94</td>\n",
       "      <td>0.96</td>\n",
       "    </tr>\n",
       "    <tr>\n",
       "      <th>450</th>\n",
       "      <td>0.97</td>\n",
       "      <td>0.98</td>\n",
       "      <td>0.87</td>\n",
       "      <td>0.89</td>\n",
       "      <td>0.87</td>\n",
       "      <td>0.89</td>\n",
       "      <td>0.88</td>\n",
       "      <td>0.90</td>\n",
       "      <td>0.78</td>\n",
       "      <td>0.81</td>\n",
       "      <td>0.74</td>\n",
       "      <td>0.77</td>\n",
       "      <td>0.96</td>\n",
       "      <td>0.97</td>\n",
       "    </tr>\n",
       "    <tr>\n",
       "      <th>500</th>\n",
       "      <td>0.98</td>\n",
       "      <td>0.99</td>\n",
       "      <td>0.87</td>\n",
       "      <td>0.89</td>\n",
       "      <td>0.87</td>\n",
       "      <td>0.89</td>\n",
       "      <td>0.87</td>\n",
       "      <td>0.89</td>\n",
       "      <td>0.78</td>\n",
       "      <td>0.81</td>\n",
       "      <td>0.74</td>\n",
       "      <td>0.77</td>\n",
       "      <td>0.97</td>\n",
       "      <td>0.98</td>\n",
       "    </tr>\n",
       "  </tbody>\n",
       "</table>\n",
       "</div>"
      ],
      "text/plain": [
       "     random_train  random_test  stat_volume_train  stat_volume_test  \\\n",
       "300          0.94         0.95               0.83              0.85   \n",
       "350          0.95         0.96               0.85              0.87   \n",
       "400          0.96         0.98               0.87              0.89   \n",
       "450          0.97         0.98               0.87              0.89   \n",
       "500          0.98         0.99               0.87              0.89   \n",
       "\n",
       "     stacked_volume_train  stacked_volume_test  max_error_train  \\\n",
       "300                  0.83                 0.85             0.85   \n",
       "350                  0.85                 0.87             0.87   \n",
       "400                  0.87                 0.89             0.87   \n",
       "450                  0.87                 0.89             0.88   \n",
       "500                  0.87                 0.89             0.87   \n",
       "\n",
       "     max_error_test  min_variance_train  min_variance_test  greedy_train  \\\n",
       "300            0.87                0.80               0.82          0.73   \n",
       "350            0.89                0.79               0.82          0.73   \n",
       "400            0.88                0.78               0.81          0.73   \n",
       "450            0.90                0.78               0.81          0.74   \n",
       "500            0.89                0.78               0.81          0.74   \n",
       "\n",
       "     greedy_test  random_network_distill_train  random_network_distill_test  \n",
       "300         0.76                          0.93                         0.94  \n",
       "350         0.76                          0.94                         0.95  \n",
       "400         0.77                          0.94                         0.96  \n",
       "450         0.77                          0.96                         0.97  \n",
       "500         0.77                          0.97                         0.98  "
      ]
     },
     "metadata": {},
     "output_type": "display_data"
    },
    {
     "data": {
      "image/png": "[encoded data removed]",
      "text/plain": [
       "<Figure size 432x288 with 1 Axes>"
      ]
     },
     "metadata": {
      "needs_background": "light"
     },
     "output_type": "display_data"
    },
    {
     "data": {
      "image/png": "[encoded data removed]",
      "text/plain": [
       "<Figure size 432x288 with 1 Axes>"
      ]
     },
     "metadata": {
      "needs_background": "light"
     },
     "output_type": "display_data"
    }
   ],
   "source": [
    "\n",
    "alpha = 1\n",
    "n_iters = 501\n",
    "\n",
    "methods = ['random', 'stat_volume', 'stacked_volume', 'max_error', 'min_variance', 'greedy']\n",
    "agents = {method: Agent(method=method, linreg_model=ElasticNet(alpha)) for method in methods}\n",
    "methods += ['random_network_distill']\n",
    "agents['random_network_distill'] = Agent(method='random_network_distill', \n",
    "                                         linreg_model=ElasticNet(alpha),\n",
    "                                         rnd_model=create_rnd(lr=5e-4))\n",
    "\n",
    "\n",
    "eval_rule=lambda i: (i%500==0) or (i<1000 and i%50==0) or (i<100 and i%5==0) or (i<10)\n",
    "\n",
    "global_scores, scores = run_experiment(agents, S_train, R_train, S_test, R_test,\n",
    "                        n_iters=n_iters, n_repeats=1,\n",
    "                       eval_rule=eval_rule, metric=mean_squared_error)\n",
    "\n",
    "# plot_params = dict(logy=True, grid=True, ylim=(0, 1))\n",
    "plot_params = dict(logy=True, grid=True)\n",
    "\n",
    "train_cols(scores).plot(**plot_params)\n",
    "test_cols(scores).plot(**plot_params)\n",
    "\n",
    "display(scores.tail(5).round(2))"
   ]
  },
  {
   "cell_type": "code",
   "execution_count": 39,
   "metadata": {},
   "outputs": [
    {
     "data": {
      "text/plain": [
       "(array([ 0.26408861,  0.        ,  0.        , -0.        , -0.        ,\n",
       "        -0.        , -0.        , -0.        ]),\n",
       " array([ 0.60184032,  0.        ,  0.        , -0.        , -0.        ,\n",
       "        -0.        , -0.        , -0.        ]))"
      ]
     },
     "execution_count": 39,
     "metadata": {},
     "output_type": "execute_result"
    }
   ],
   "source": [
    "agents['random'].linreg_model.coef_, agents['min_variance'].linreg_model.coef_"
   ]
  },
  {
   "cell_type": "markdown",
   "metadata": {},
   "source": [
    "**Результаты**:  \n",
    "Большая регуляризация $\\alpha=1$    \n",
    "*RND* показывает качество на уровне рандома, mse ~ 1.0  \n",
    "*stat_volume* лучше, mse ~ 0.9  \n",
    "*max_error, min_variance, greedy* тоже показывают хорошие результаты, но они \"нечестные\" (используют будущий reward при выборе действия), они здесь есть для обогащения множества бенчмарков\n",
    "Странно, что все кривые выходят на плато, но не сходятся в одну точку"
   ]
  },
  {
   "cell_type": "markdown",
   "metadata": {},
   "source": [
    "Поставим регуляризацию, дающую лучшее качество на тесте"
   ]
  },
  {
   "cell_type": "code",
   "execution_count": 46,
   "metadata": {},
   "outputs": [
    {
     "data": {
      "application/vnd.jupyter.widget-view+json": {
       "model_id": "26101b121e2c40818175c89dd092aa41",
       "version_major": 2,
       "version_minor": 0
      },
      "text/plain": [
       "HBox(children=(IntProgress(value=0, max=201), HTML(value='')))"
      ]
     },
     "metadata": {},
     "output_type": "display_data"
    },
    {
     "name": "stdout",
     "output_type": "stream",
     "text": [
      "\n"
     ]
    },
    {
     "data": {
      "text/html": [
       "<div>\n",
       "<style scoped>\n",
       "    .dataframe tbody tr th:only-of-type {\n",
       "        vertical-align: middle;\n",
       "    }\n",
       "\n",
       "    .dataframe tbody tr th {\n",
       "        vertical-align: top;\n",
       "    }\n",
       "\n",
       "    .dataframe thead th {\n",
       "        text-align: right;\n",
       "    }\n",
       "</style>\n",
       "<table border=\"1\" class=\"dataframe\">\n",
       "  <thead>\n",
       "    <tr style=\"text-align: right;\">\n",
       "      <th></th>\n",
       "      <th>random_train</th>\n",
       "      <th>stat_volume_train</th>\n",
       "      <th>stacked_volume_train</th>\n",
       "      <th>max_error_train</th>\n",
       "      <th>min_variance_train</th>\n",
       "      <th>greedy_train</th>\n",
       "      <th>random_network_distill_train</th>\n",
       "    </tr>\n",
       "  </thead>\n",
       "  <tbody>\n",
       "    <tr>\n",
       "      <th>90</th>\n",
       "      <td>0.68</td>\n",
       "      <td>0.66</td>\n",
       "      <td>0.66</td>\n",
       "      <td>0.66</td>\n",
       "      <td>0.69</td>\n",
       "      <td>0.73</td>\n",
       "      <td>0.68</td>\n",
       "    </tr>\n",
       "    <tr>\n",
       "      <th>95</th>\n",
       "      <td>0.68</td>\n",
       "      <td>0.66</td>\n",
       "      <td>0.66</td>\n",
       "      <td>0.68</td>\n",
       "      <td>0.70</td>\n",
       "      <td>0.72</td>\n",
       "      <td>0.68</td>\n",
       "    </tr>\n",
       "    <tr>\n",
       "      <th>100</th>\n",
       "      <td>0.68</td>\n",
       "      <td>0.66</td>\n",
       "      <td>0.67</td>\n",
       "      <td>0.74</td>\n",
       "      <td>0.70</td>\n",
       "      <td>0.72</td>\n",
       "      <td>0.68</td>\n",
       "    </tr>\n",
       "    <tr>\n",
       "      <th>150</th>\n",
       "      <td>0.67</td>\n",
       "      <td>0.66</td>\n",
       "      <td>0.67</td>\n",
       "      <td>0.75</td>\n",
       "      <td>0.72</td>\n",
       "      <td>0.72</td>\n",
       "      <td>0.64</td>\n",
       "    </tr>\n",
       "    <tr>\n",
       "      <th>200</th>\n",
       "      <td>0.69</td>\n",
       "      <td>0.67</td>\n",
       "      <td>0.68</td>\n",
       "      <td>0.71</td>\n",
       "      <td>0.72</td>\n",
       "      <td>0.72</td>\n",
       "      <td>0.65</td>\n",
       "    </tr>\n",
       "  </tbody>\n",
       "</table>\n",
       "</div>"
      ],
      "text/plain": [
       "     random_train  stat_volume_train  stacked_volume_train  max_error_train  \\\n",
       "90           0.68               0.66                  0.66             0.66   \n",
       "95           0.68               0.66                  0.66             0.68   \n",
       "100          0.68               0.66                  0.67             0.74   \n",
       "150          0.67               0.66                  0.67             0.75   \n",
       "200          0.69               0.67                  0.68             0.71   \n",
       "\n",
       "     min_variance_train  greedy_train  random_network_distill_train  \n",
       "90                 0.69          0.73                          0.68  \n",
       "95                 0.70          0.72                          0.68  \n",
       "100                0.70          0.72                          0.68  \n",
       "150                0.72          0.72                          0.64  \n",
       "200                0.72          0.72                          0.65  "
      ]
     },
     "metadata": {},
     "output_type": "display_data"
    },
    {
     "data": {
      "text/html": [
       "<div>\n",
       "<style scoped>\n",
       "    .dataframe tbody tr th:only-of-type {\n",
       "        vertical-align: middle;\n",
       "    }\n",
       "\n",
       "    .dataframe tbody tr th {\n",
       "        vertical-align: top;\n",
       "    }\n",
       "\n",
       "    .dataframe thead th {\n",
       "        text-align: right;\n",
       "    }\n",
       "</style>\n",
       "<table border=\"1\" class=\"dataframe\">\n",
       "  <thead>\n",
       "    <tr style=\"text-align: right;\">\n",
       "      <th></th>\n",
       "      <th>random_test</th>\n",
       "      <th>stat_volume_test</th>\n",
       "      <th>stacked_volume_test</th>\n",
       "      <th>max_error_test</th>\n",
       "      <th>min_variance_test</th>\n",
       "      <th>greedy_test</th>\n",
       "      <th>random_network_distill_test</th>\n",
       "    </tr>\n",
       "  </thead>\n",
       "  <tbody>\n",
       "    <tr>\n",
       "      <th>90</th>\n",
       "      <td>0.71</td>\n",
       "      <td>0.69</td>\n",
       "      <td>0.69</td>\n",
       "      <td>4.46</td>\n",
       "      <td>0.74</td>\n",
       "      <td>0.77</td>\n",
       "      <td>0.72</td>\n",
       "    </tr>\n",
       "    <tr>\n",
       "      <th>95</th>\n",
       "      <td>0.71</td>\n",
       "      <td>0.69</td>\n",
       "      <td>0.70</td>\n",
       "      <td>5.15</td>\n",
       "      <td>0.74</td>\n",
       "      <td>0.76</td>\n",
       "      <td>0.72</td>\n",
       "    </tr>\n",
       "    <tr>\n",
       "      <th>100</th>\n",
       "      <td>0.71</td>\n",
       "      <td>0.70</td>\n",
       "      <td>0.70</td>\n",
       "      <td>8.65</td>\n",
       "      <td>1.18</td>\n",
       "      <td>0.76</td>\n",
       "      <td>0.72</td>\n",
       "    </tr>\n",
       "    <tr>\n",
       "      <th>150</th>\n",
       "      <td>0.70</td>\n",
       "      <td>0.69</td>\n",
       "      <td>0.69</td>\n",
       "      <td>9.36</td>\n",
       "      <td>5.18</td>\n",
       "      <td>0.76</td>\n",
       "      <td>0.72</td>\n",
       "    </tr>\n",
       "    <tr>\n",
       "      <th>200</th>\n",
       "      <td>0.72</td>\n",
       "      <td>0.71</td>\n",
       "      <td>0.72</td>\n",
       "      <td>6.89</td>\n",
       "      <td>6.14</td>\n",
       "      <td>0.76</td>\n",
       "      <td>0.69</td>\n",
       "    </tr>\n",
       "  </tbody>\n",
       "</table>\n",
       "</div>"
      ],
      "text/plain": [
       "     random_test  stat_volume_test  stacked_volume_test  max_error_test  \\\n",
       "90          0.71              0.69                 0.69            4.46   \n",
       "95          0.71              0.69                 0.70            5.15   \n",
       "100         0.71              0.70                 0.70            8.65   \n",
       "150         0.70              0.69                 0.69            9.36   \n",
       "200         0.72              0.71                 0.72            6.89   \n",
       "\n",
       "     min_variance_test  greedy_test  random_network_distill_test  \n",
       "90                0.74         0.77                         0.72  \n",
       "95                0.74         0.76                         0.72  \n",
       "100               1.18         0.76                         0.72  \n",
       "150               5.18         0.76                         0.72  \n",
       "200               6.14         0.76                         0.69  "
      ]
     },
     "metadata": {},
     "output_type": "display_data"
    },
    {
     "data": {
      "image/png": "[encoded data removed]",
      "text/plain": [
       "<Figure size 432x288 with 1 Axes>"
      ]
     },
     "metadata": {
      "needs_background": "light"
     },
     "output_type": "display_data"
    },
    {
     "data": {
      "image/png": "[encoded data removed]",
      "text/plain": [
       "<Figure size 432x288 with 1 Axes>"
      ]
     },
     "metadata": {
      "needs_background": "light"
     },
     "output_type": "display_data"
    }
   ],
   "source": [
    "alpha = 2e-1\n",
    "n_iters = 201\n",
    "\n",
    "methods = ['random', 'stat_volume', 'stacked_volume', 'max_error', 'min_variance', 'greedy']\n",
    "agents = {method: Agent(method=method, linreg_model=ElasticNet(alpha)) for method in methods}\n",
    "methods += ['random_network_distill']\n",
    "agents['random_network_distill'] = Agent(method='random_network_distill', \n",
    "                                         linreg_model=ElasticNet(alpha),\n",
    "                                         rnd_model=create_rnd(lr=5e-4))\n",
    "\n",
    "\n",
    "eval_rule=lambda i: (i%500==0) or (i<1000 and i%50==0) or (i<100 and i%5==0) or (i<10)\n",
    "\n",
    "global_scores, scores = run_experiment(agents, S_train, R_train, S_test, R_test,\n",
    "                        n_iters=n_iters, n_repeats=1,\n",
    "                       eval_rule=eval_rule, metric=mean_squared_error)\n",
    "\n",
    "# plot_params = dict(logy=True, grid=True, ylim=(0, 1))\n",
    "plot_params = dict(logy=False, grid=True)\n",
    "\n",
    "train_cols(scores).plot(**plot_params)\n",
    "test_cols(scores).plot(**plot_params)\n",
    "\n",
    "display(train_cols(scores).tail(5).round(2))\n",
    "display(test_cols(scores).tail(5).round(2))"
   ]
  },
  {
   "cell_type": "code",
   "execution_count": 49,
   "metadata": {},
   "outputs": [
    {
     "data": {
      "text/html": [
       "<div>\n",
       "<style scoped>\n",
       "    .dataframe tbody tr th:only-of-type {\n",
       "        vertical-align: middle;\n",
       "    }\n",
       "\n",
       "    .dataframe tbody tr th {\n",
       "        vertical-align: top;\n",
       "    }\n",
       "\n",
       "    .dataframe thead th {\n",
       "        text-align: right;\n",
       "    }\n",
       "</style>\n",
       "<table border=\"1\" class=\"dataframe\">\n",
       "  <thead>\n",
       "    <tr style=\"text-align: right;\">\n",
       "      <th></th>\n",
       "      <th>0</th>\n",
       "      <th>1</th>\n",
       "      <th>2</th>\n",
       "      <th>3</th>\n",
       "      <th>4</th>\n",
       "      <th>5</th>\n",
       "      <th>6</th>\n",
       "      <th>7</th>\n",
       "    </tr>\n",
       "  </thead>\n",
       "  <tbody>\n",
       "    <tr>\n",
       "      <th>random</th>\n",
       "      <td>0.665105</td>\n",
       "      <td>0.012649</td>\n",
       "      <td>0.0</td>\n",
       "      <td>0.0</td>\n",
       "      <td>0.0</td>\n",
       "      <td>-0.000000</td>\n",
       "      <td>-0.105869</td>\n",
       "      <td>-0.000000</td>\n",
       "    </tr>\n",
       "    <tr>\n",
       "      <th>stat_volume</th>\n",
       "      <td>0.697392</td>\n",
       "      <td>0.095026</td>\n",
       "      <td>-0.0</td>\n",
       "      <td>-0.0</td>\n",
       "      <td>0.0</td>\n",
       "      <td>-0.021948</td>\n",
       "      <td>-0.167996</td>\n",
       "      <td>-0.000000</td>\n",
       "    </tr>\n",
       "    <tr>\n",
       "      <th>stacked_volume</th>\n",
       "      <td>0.704617</td>\n",
       "      <td>0.080873</td>\n",
       "      <td>-0.0</td>\n",
       "      <td>-0.0</td>\n",
       "      <td>0.0</td>\n",
       "      <td>-0.018862</td>\n",
       "      <td>-0.173952</td>\n",
       "      <td>-0.000000</td>\n",
       "    </tr>\n",
       "    <tr>\n",
       "      <th>max_error</th>\n",
       "      <td>0.678404</td>\n",
       "      <td>0.089317</td>\n",
       "      <td>-0.0</td>\n",
       "      <td>0.0</td>\n",
       "      <td>0.0</td>\n",
       "      <td>-0.316340</td>\n",
       "      <td>-0.225585</td>\n",
       "      <td>-0.103139</td>\n",
       "    </tr>\n",
       "    <tr>\n",
       "      <th>min_variance</th>\n",
       "      <td>0.872068</td>\n",
       "      <td>0.113630</td>\n",
       "      <td>-0.0</td>\n",
       "      <td>0.0</td>\n",
       "      <td>0.0</td>\n",
       "      <td>-0.297526</td>\n",
       "      <td>-0.209082</td>\n",
       "      <td>-0.000000</td>\n",
       "    </tr>\n",
       "    <tr>\n",
       "      <th>greedy</th>\n",
       "      <td>0.807542</td>\n",
       "      <td>0.144392</td>\n",
       "      <td>0.0</td>\n",
       "      <td>-0.0</td>\n",
       "      <td>-0.0</td>\n",
       "      <td>-0.000000</td>\n",
       "      <td>0.000000</td>\n",
       "      <td>-0.025374</td>\n",
       "    </tr>\n",
       "    <tr>\n",
       "      <th>random_network_distill</th>\n",
       "      <td>0.701520</td>\n",
       "      <td>0.148754</td>\n",
       "      <td>-0.0</td>\n",
       "      <td>0.0</td>\n",
       "      <td>0.0</td>\n",
       "      <td>-0.018376</td>\n",
       "      <td>-0.069712</td>\n",
       "      <td>-0.000000</td>\n",
       "    </tr>\n",
       "  </tbody>\n",
       "</table>\n",
       "</div>"
      ],
      "text/plain": [
       "                               0         1    2    3    4         5         6  \\\n",
       "random                  0.665105  0.012649  0.0  0.0  0.0 -0.000000 -0.105869   \n",
       "stat_volume             0.697392  0.095026 -0.0 -0.0  0.0 -0.021948 -0.167996   \n",
       "stacked_volume          0.704617  0.080873 -0.0 -0.0  0.0 -0.018862 -0.173952   \n",
       "max_error               0.678404  0.089317 -0.0  0.0  0.0 -0.316340 -0.225585   \n",
       "min_variance            0.872068  0.113630 -0.0  0.0  0.0 -0.297526 -0.209082   \n",
       "greedy                  0.807542  0.144392  0.0 -0.0 -0.0 -0.000000  0.000000   \n",
       "random_network_distill  0.701520  0.148754 -0.0  0.0  0.0 -0.018376 -0.069712   \n",
       "\n",
       "                               7  \n",
       "random                 -0.000000  \n",
       "stat_volume            -0.000000  \n",
       "stacked_volume         -0.000000  \n",
       "max_error              -0.103139  \n",
       "min_variance           -0.000000  \n",
       "greedy                 -0.025374  \n",
       "random_network_distill -0.000000  "
      ]
     },
     "execution_count": 49,
     "metadata": {},
     "output_type": "execute_result"
    }
   ],
   "source": [
    "pd.DataFrame({method: agents[method].linreg_model.coef_ for method in methods}).T"
   ]
  },
  {
   "cell_type": "markdown",
   "metadata": {},
   "source": [
    "Здесь совсем другие результаты  \n",
    "*max_error* и *min_variance* почему-то плохо ведут себя на тесте  \n",
    "остальные методы работают примерно как *random*  "
   ]
  },
  {
   "cell_type": "code",
   "execution_count": null,
   "metadata": {},
   "outputs": [],
   "source": []
  },
  {
   "cell_type": "code",
   "execution_count": null,
   "metadata": {},
   "outputs": [],
   "source": []
  },
  {
   "cell_type": "code",
   "execution_count": 53,
   "metadata": {},
   "outputs": [
    {
     "data": {
      "application/vnd.jupyter.widget-view+json": {
       "model_id": "4d8354beddeb48a79171716f704fa0f4",
       "version_major": 2,
       "version_minor": 0
      },
      "text/plain": [
       "HBox(children=(IntProgress(value=0, max=501), HTML(value='')))"
      ]
     },
     "metadata": {},
     "output_type": "display_data"
    },
    {
     "name": "stdout",
     "output_type": "stream",
     "text": [
      "\n"
     ]
    },
    {
     "data": {
      "text/html": [
       "<div>\n",
       "<style scoped>\n",
       "    .dataframe tbody tr th:only-of-type {\n",
       "        vertical-align: middle;\n",
       "    }\n",
       "\n",
       "    .dataframe tbody tr th {\n",
       "        vertical-align: top;\n",
       "    }\n",
       "\n",
       "    .dataframe thead th {\n",
       "        text-align: right;\n",
       "    }\n",
       "</style>\n",
       "<table border=\"1\" class=\"dataframe\">\n",
       "  <thead>\n",
       "    <tr style=\"text-align: right;\">\n",
       "      <th></th>\n",
       "      <th>random_train</th>\n",
       "      <th>stat_volume_train</th>\n",
       "      <th>stacked_volume_train</th>\n",
       "      <th>max_error_train</th>\n",
       "      <th>min_variance_train</th>\n",
       "      <th>greedy_train</th>\n",
       "      <th>random_network_distill_train</th>\n",
       "    </tr>\n",
       "  </thead>\n",
       "  <tbody>\n",
       "    <tr>\n",
       "      <th>300</th>\n",
       "      <td>1.29</td>\n",
       "      <td>1.27</td>\n",
       "      <td>1.28</td>\n",
       "      <td>1.28</td>\n",
       "      <td>1.29</td>\n",
       "      <td>1.25</td>\n",
       "      <td>1.37</td>\n",
       "    </tr>\n",
       "    <tr>\n",
       "      <th>350</th>\n",
       "      <td>1.29</td>\n",
       "      <td>1.27</td>\n",
       "      <td>1.27</td>\n",
       "      <td>1.25</td>\n",
       "      <td>1.25</td>\n",
       "      <td>1.23</td>\n",
       "      <td>1.36</td>\n",
       "    </tr>\n",
       "    <tr>\n",
       "      <th>400</th>\n",
       "      <td>1.28</td>\n",
       "      <td>1.26</td>\n",
       "      <td>1.26</td>\n",
       "      <td>1.25</td>\n",
       "      <td>1.25</td>\n",
       "      <td>1.23</td>\n",
       "      <td>1.36</td>\n",
       "    </tr>\n",
       "    <tr>\n",
       "      <th>450</th>\n",
       "      <td>1.27</td>\n",
       "      <td>1.25</td>\n",
       "      <td>1.25</td>\n",
       "      <td>1.25</td>\n",
       "      <td>1.25</td>\n",
       "      <td>1.22</td>\n",
       "      <td>1.35</td>\n",
       "    </tr>\n",
       "    <tr>\n",
       "      <th>500</th>\n",
       "      <td>1.27</td>\n",
       "      <td>1.23</td>\n",
       "      <td>1.24</td>\n",
       "      <td>1.22</td>\n",
       "      <td>1.22</td>\n",
       "      <td>1.21</td>\n",
       "      <td>1.34</td>\n",
       "    </tr>\n",
       "  </tbody>\n",
       "</table>\n",
       "</div>"
      ],
      "text/plain": [
       "     random_train  stat_volume_train  stacked_volume_train  max_error_train  \\\n",
       "300          1.29               1.27                  1.28             1.28   \n",
       "350          1.29               1.27                  1.27             1.25   \n",
       "400          1.28               1.26                  1.26             1.25   \n",
       "450          1.27               1.25                  1.25             1.25   \n",
       "500          1.27               1.23                  1.24             1.22   \n",
       "\n",
       "     min_variance_train  greedy_train  random_network_distill_train  \n",
       "300                1.29          1.25                          1.37  \n",
       "350                1.25          1.23                          1.36  \n",
       "400                1.25          1.23                          1.36  \n",
       "450                1.25          1.22                          1.35  \n",
       "500                1.22          1.21                          1.34  "
      ]
     },
     "metadata": {},
     "output_type": "display_data"
    },
    {
     "data": {
      "text/html": [
       "<div>\n",
       "<style scoped>\n",
       "    .dataframe tbody tr th:only-of-type {\n",
       "        vertical-align: middle;\n",
       "    }\n",
       "\n",
       "    .dataframe tbody tr th {\n",
       "        vertical-align: top;\n",
       "    }\n",
       "\n",
       "    .dataframe thead th {\n",
       "        text-align: right;\n",
       "    }\n",
       "</style>\n",
       "<table border=\"1\" class=\"dataframe\">\n",
       "  <thead>\n",
       "    <tr style=\"text-align: right;\">\n",
       "      <th></th>\n",
       "      <th>random_test</th>\n",
       "      <th>stat_volume_test</th>\n",
       "      <th>stacked_volume_test</th>\n",
       "      <th>max_error_test</th>\n",
       "      <th>min_variance_test</th>\n",
       "      <th>greedy_test</th>\n",
       "      <th>random_network_distill_test</th>\n",
       "    </tr>\n",
       "  </thead>\n",
       "  <tbody>\n",
       "    <tr>\n",
       "      <th>300</th>\n",
       "      <td>1.29</td>\n",
       "      <td>1.27</td>\n",
       "      <td>1.27</td>\n",
       "      <td>1.27</td>\n",
       "      <td>1.28</td>\n",
       "      <td>1.24</td>\n",
       "      <td>1.36</td>\n",
       "    </tr>\n",
       "    <tr>\n",
       "      <th>350</th>\n",
       "      <td>1.29</td>\n",
       "      <td>1.26</td>\n",
       "      <td>1.27</td>\n",
       "      <td>1.24</td>\n",
       "      <td>1.25</td>\n",
       "      <td>1.23</td>\n",
       "      <td>1.35</td>\n",
       "    </tr>\n",
       "    <tr>\n",
       "      <th>400</th>\n",
       "      <td>1.28</td>\n",
       "      <td>1.25</td>\n",
       "      <td>1.26</td>\n",
       "      <td>1.24</td>\n",
       "      <td>1.24</td>\n",
       "      <td>1.22</td>\n",
       "      <td>1.35</td>\n",
       "    </tr>\n",
       "    <tr>\n",
       "      <th>450</th>\n",
       "      <td>1.27</td>\n",
       "      <td>1.24</td>\n",
       "      <td>1.25</td>\n",
       "      <td>1.25</td>\n",
       "      <td>1.25</td>\n",
       "      <td>1.21</td>\n",
       "      <td>1.34</td>\n",
       "    </tr>\n",
       "    <tr>\n",
       "      <th>500</th>\n",
       "      <td>1.27</td>\n",
       "      <td>1.23</td>\n",
       "      <td>1.23</td>\n",
       "      <td>1.21</td>\n",
       "      <td>1.21</td>\n",
       "      <td>1.20</td>\n",
       "      <td>1.34</td>\n",
       "    </tr>\n",
       "  </tbody>\n",
       "</table>\n",
       "</div>"
      ],
      "text/plain": [
       "     random_test  stat_volume_test  stacked_volume_test  max_error_test  \\\n",
       "300         1.29              1.27                 1.27            1.27   \n",
       "350         1.29              1.26                 1.27            1.24   \n",
       "400         1.28              1.25                 1.26            1.24   \n",
       "450         1.27              1.24                 1.25            1.25   \n",
       "500         1.27              1.23                 1.23            1.21   \n",
       "\n",
       "     min_variance_test  greedy_test  random_network_distill_test  \n",
       "300               1.28         1.24                         1.36  \n",
       "350               1.25         1.23                         1.35  \n",
       "400               1.24         1.22                         1.35  \n",
       "450               1.25         1.21                         1.34  \n",
       "500               1.21         1.20                         1.34  "
      ]
     },
     "metadata": {},
     "output_type": "display_data"
    },
    {
     "data": {
      "image/png": "[encoded data removed]",
      "text/plain": [
       "<Figure size 432x288 with 1 Axes>"
      ]
     },
     "metadata": {
      "needs_background": "light"
     },
     "output_type": "display_data"
    },
    {
     "data": {
      "image/png": "[encoded data removed]",
      "text/plain": [
       "<Figure size 432x288 with 1 Axes>"
      ]
     },
     "metadata": {
      "needs_background": "light"
     },
     "output_type": "display_data"
    }
   ],
   "source": [
    "alpha = 1e4\n",
    "n_iters = 501\n",
    "\n",
    "methods = ['random', 'stat_volume', 'stacked_volume', 'max_error', 'min_variance', 'greedy']\n",
    "agents = {method: Agent(method=method, linreg_model=Ridge(alpha)) for method in methods}\n",
    "methods += ['random_network_distill']\n",
    "agents['random_network_distill'] = Agent(method='random_network_distill', \n",
    "                                         linreg_model=ElasticNet(alpha),\n",
    "                                         rnd_model=create_rnd(lr=5e-4))\n",
    "\n",
    "\n",
    "eval_rule=lambda i: (i%500==0) or (i<1000 and i%50==0) or (i<100 and i%5==0) or (i<10)\n",
    "\n",
    "global_scores, scores = run_experiment(agents, S_train, R_train, S_test, R_test,\n",
    "                        n_iters=n_iters, n_repeats=1,\n",
    "                       eval_rule=eval_rule, metric=mean_squared_error)\n",
    "\n",
    "# plot_params = dict(logy=True, grid=True, ylim=(0, 1))\n",
    "plot_params = dict(logy=False, grid=True)\n",
    "\n",
    "train_cols(scores).plot(**plot_params)\n",
    "test_cols(scores).plot(**plot_params)\n",
    "\n",
    "display(train_cols(scores).tail(5).round(2))\n",
    "display(test_cols(scores).tail(5).round(2))"
   ]
  },
  {
   "cell_type": "markdown",
   "metadata": {},
   "source": [
    "# Мусор"
   ]
  },
  {
   "cell_type": "code",
   "execution_count": 27,
   "metadata": {},
   "outputs": [
    {
     "data": {
      "application/vnd.jupyter.widget-view+json": {
       "model_id": "08df9fe2428341cfb33a8a60a148bced",
       "version_major": 2,
       "version_minor": 0
      },
      "text/plain": [
       "HBox(children=(IntProgress(value=0, max=1001), HTML(value='')))"
      ]
     },
     "metadata": {},
     "output_type": "display_data"
    },
    {
     "name": "stdout",
     "output_type": "stream",
     "text": [
      "\n"
     ]
    },
    {
     "data": {
      "text/plain": [
       "<matplotlib.axes._subplots.AxesSubplot at 0x7f8df06b5390>"
      ]
     },
     "execution_count": 27,
     "metadata": {},
     "output_type": "execute_result"
    },
    {
     "data": {
      "image/png": "[encoded data removed]",
      "text/plain": [
       "<Figure size 432x288 with 1 Axes>"
      ]
     },
     "metadata": {
      "needs_background": "light"
     },
     "output_type": "display_data"
    },
    {
     "data": {
      "image/png": "[encoded data removed]",
      "text/plain": [
       "<Figure size 432x288 with 1 Axes>"
      ]
     },
     "metadata": {
      "needs_background": "light"
     },
     "output_type": "display_data"
    }
   ],
   "source": [
    "methods = ['random', 'stat_volume', 'greedy', 'max_error', 'min_variance']\n",
    "agents = {method: Agent(method=method, linreg_model=ElasticNet(1e-0)) for method in methods}\n",
    "eval_rule=lambda i: (i%500==0) or (i<1000 and i%50==0) or (i<100 and i%5==0) or (i<10)\n",
    "\n",
    "global_scores, scores = run_experiment(agents, S_train, R_train, S_test, R_test,\n",
    "                        n_iters=1001, n_repeats=1,\n",
    "                       eval_rule=eval_rule)\n",
    "\n",
    "scores[[col for col in scores.columns if 'test' in col]].plot(ylim=(0,0.5))\n",
    "scores[[col for col in scores.columns if 'train' in col]].plot(ylim=(0,0.6))"
   ]
  },
  {
   "cell_type": "code",
   "execution_count": null,
   "metadata": {},
   "outputs": [],
   "source": []
  }
 ],
 "metadata": {
  "kernelspec": {
   "display_name": "Python 3",
   "language": "python",
   "name": "python3"
  },
  "language_info": {
   "codemirror_mode": {
    "name": "ipython",
    "version": 3
   },
   "file_extension": ".py",
   "mimetype": "text/x-python",
   "name": "python",
   "nbconvert_exporter": "python",
   "pygments_lexer": "ipython3",
   "version": "3.7.3"
  }
 },
 "nbformat": 4,
 "nbformat_minor": 2
}
